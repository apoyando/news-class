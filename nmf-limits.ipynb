{
 "cells": [
  {
   "cell_type": "markdown",
   "metadata": {},
   "source": [
    "# **Using NMF on sparse data**\n"
   ]
  },
  {
   "cell_type": "markdown",
   "metadata": {},
   "source": [
    "## Step 1:\n",
    "I will load the movie ratings sample data from the MovieLens dataset and use sklearn matrix factorization to predict the missing ratings from the test data and measure the RMSE.\n",
    "\n",
    "To account for missing data, I am imputing all of a user's unrated movies to a 3. For the number of latent factors, I will use the number of genre columns in the movies table (18)."
   ]
  },
  {
   "cell_type": "code",
   "execution_count": 44,
   "metadata": {},
   "outputs": [],
   "source": [
    "import pandas as pd\n",
    "import numpy as np\n",
    "from sklearn.decomposition import NMF\n",
    "from sklearn.metrics import mean_squared_error\n",
    "from math import sqrt\n",
    "from scipy.sparse import csr_matrix"
   ]
  },
  {
   "cell_type": "code",
   "execution_count": 45,
   "metadata": {},
   "outputs": [],
   "source": [
    "MV_users = pd.read_csv('movie-data/users.csv')\n",
    "MV_movies = pd.read_csv('movie-data/movies.csv')\n",
    "train = pd.read_csv('movie-data/train.csv')\n",
    "test = pd.read_csv('movie-data/test.csv')"
   ]
  },
  {
   "cell_type": "code",
   "execution_count": 46,
   "metadata": {},
   "outputs": [
    {
     "name": "stdout",
     "output_type": "stream",
     "text": [
      "NMF RMSE with imputed threes on test set: 1.1062\n"
     ]
    }
   ],
   "source": [
    "num_users = MV_users['uID'].max()\n",
    "num_movies = MV_movies['mID'].max()\n",
    "\n",
    "# Create a full user-movie matrix of threes\n",
    "user_movie_matrix_train = np.full((num_users, num_movies), 3.0)\n",
    "\n",
    "# Populate the matrix with ratings from the training data\n",
    "for _, row in train.iterrows():\n",
    "    # Adjust for 0-based indexing if IDs start from 1\n",
    "    user_idx = row['uID'] - 1\n",
    "    movie_idx = row['mID'] - 1\n",
    "    rating = row['rating']\n",
    "    if user_idx < num_users and movie_idx < num_movies:\n",
    "        user_movie_matrix_train[user_idx, movie_idx] = rating\n",
    "\n",
    "# Create a sparse matrix for NMF for efficiency\n",
    "user_movie_sparse_train = csr_matrix(user_movie_matrix_train)\n",
    "\n",
    "# For the number of latent factors, I am using the number of genre columns in the movies table.\n",
    "n_components = 18\n",
    "\n",
    "# Initialize and fit the NMF model on the training data matrix\n",
    "nmf_model = NMF(n_components=n_components, init='nndsvda', max_iter=1000, random_state=42)\n",
    "user_factors = nmf_model.fit_transform(user_movie_sparse_train)\n",
    "movie_factors = nmf_model.components_\n",
    "\n",
    "# Reconstruct the matrix to predict missing ratings for the entire matrix\n",
    "predicted_ratings_full_matrix = np.dot(user_factors, movie_factors)\n",
    "\n",
    "# Predict ratings for the test data\n",
    "test_predictions = []\n",
    "for _, row in test.iterrows():\n",
    "    # Adjust for 0-based indexing\n",
    "    user_idx = row['uID'] - 1\n",
    "    movie_idx = row['mID'] - 1\n",
    "    predicted_rating = predicted_ratings_full_matrix[user_idx, movie_idx]\n",
    "    test_predictions.append(predicted_rating)\n",
    "\n",
    "# Calculate RMSE on the test data\n",
    "test_true_ratings = test['rating'].values\n",
    "rmse = sqrt(mean_squared_error(test_true_ratings, test_predictions))\n",
    "\n",
    "print(f\"NMF RMSE with imputed threes on test set: {rmse:.4f}\")"
   ]
  },
  {
   "cell_type": "markdown",
   "metadata": {},
   "source": [
    "This model took an excruciatingly long time to run and had a RMSE worse than all my collaborative models for this data set."
   ]
  },
  {
   "cell_type": "markdown",
   "metadata": {},
   "source": [
    "## Step 2:\n",
    "Now I will discuss the results and why sklearn's non-negative matrix facorization library did not work well compared to the simple baseline or similarity-based methods I did in an earlier model, and suggest a way(s) to fix it."
   ]
  },
  {
   "cell_type": "markdown",
   "metadata": {},
   "source": [
    "### Why sklearn.decomposition.NMF performs poorly with this data\n",
    "Since sklearn's NMF requires a complete matrix, I had to fill missing values with something. For simplicity, I chose 3s; it's possible that imputing a user's average movie rating to unrated movies would have worked better. But whatever number we imputed for unrated movie, we would still be forced by the model type to \"learn\" from fake data. Collaborative methods don't have this problem.\n",
    "\n",
    "Our NMF model also lacks user and movie bias terms, such as a user's tendency to rate movies higher or lower, and a movie's tendency to receive higher or lower ratings. Collaborative filtering can capture these biases.\n",
    "\n",
    "Additionally, my choice of latent features, while informed by the data, is arbitrary and led to a very, very long run time. Given that the performance was only slightly better than the baseline methods, this approach might not be worth it.\n"
   ]
  },
  {
   "cell_type": "markdown",
   "metadata": {},
   "source": [
    "### How to improve the model\n",
    "In terms of improving the sklearn NMF performance itself, I would need to find ways to improve the imputed ratings and bias, and speed up performance. \n",
    "\n",
    "It's possible that performance could be sped up by minimizing the number of latent features to what's aboslutely necessary. But I would have to run and test the model many, many times to get the best number.\n",
    "\n",
    "The imputed ratings could be changed to the user average, the movie average, or some mathematical formula based on those. This would inherently correct for some bias.\n",
    "\n",
    "There might also be a gradient descent method I could use to correct for user and movie bias. This would involve iterating many times of the data set.\n",
    "\n",
    "I could also try a singular valye deconposition, which could operate directly on the sparse matrix without rating imputation."
   ]
  }
 ],
 "metadata": {
  "kernelspec": {
   "display_name": "3.13.0",
   "language": "python",
   "name": "python3"
  },
  "language_info": {
   "codemirror_mode": {
    "name": "ipython",
    "version": 3
   },
   "file_extension": ".py",
   "mimetype": "text/x-python",
   "name": "python",
   "nbconvert_exporter": "python",
   "pygments_lexer": "ipython3",
   "version": "3.13.0"
  }
 },
 "nbformat": 4,
 "nbformat_minor": 2
}
